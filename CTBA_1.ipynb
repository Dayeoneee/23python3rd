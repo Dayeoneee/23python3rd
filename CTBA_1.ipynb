{
  "nbformat": 4,
  "nbformat_minor": 0,
  "metadata": {
    "colab": {
      "provenance": [],
      "authorship_tag": "ABX9TyPIMbkP7J9+t3VgrQfng3UW",
      "include_colab_link": true
    },
    "kernelspec": {
      "name": "python3",
      "display_name": "Python 3"
    },
    "language_info": {
      "name": "python"
    }
  },
  "cells": [
    {
      "cell_type": "markdown",
      "metadata": {
        "id": "view-in-github",
        "colab_type": "text"
      },
      "source": [
        "<a href=\"https://colab.research.google.com/github/Dayeoneee/23python3rd/blob/main/CTBA_1.ipynb\" target=\"_parent\"><img src=\"https://colab.research.google.com/assets/colab-badge.svg\" alt=\"Open In Colab\"/></a>"
      ]
    },
    {
      "cell_type": "markdown",
      "source": [
        "1. 쇼핑몰의 배송료를 계산하는 코드 작성\n",
        " - 사용하는 변수 : price,  shipping_cost"
      ],
      "metadata": {
        "id": "QphfwlHqbMNA"
      }
    },
    {
      "cell_type": "code",
      "source": [
        "print(\"상품의 가격을 입력하시오.\")\n",
        "price = int(input(\"구입금액을 입력: \"))\n",
        "if price > 20000:\n",
        "  shipping_cost = 0\n",
        "  print(f'구입금액이 2만원 이상입니다.')\n",
        "else:\n",
        "  shipping_cost = 3000\n",
        "  print(f'구입금액이 2만원 이하입니다.')\n",
        "print(f'회원님의 배송비는 {shipping_cost}원 입니다.')"
      ],
      "metadata": {
        "colab": {
          "base_uri": "https://localhost:8080/"
        },
        "id": "L7uwexH-cymY",
        "outputId": "2c3b83fb-dc34-486d-b2e1-6cac26ac06a6"
      },
      "execution_count": 2,
      "outputs": [
        {
          "output_type": "stream",
          "name": "stdout",
          "text": [
            "상품의 가격을 입력하시오.\n",
            "구입금액을 입력: 20001\n",
            "구입금액이 2만원 이상입니다.\n",
            "회원님의 배송비는 0원 입니다.\n"
          ]
        }
      ]
    },
    {
      "cell_type": "markdown",
      "source": [
        "2. 학생으로부터 성적을 입력받아 합격유무를 출력하는 코드\n",
        " - 사용번수:grade"
      ],
      "metadata": {
        "id": "m1GQaGCcgrP2"
      }
    },
    {
      "cell_type": "code",
      "source": [
        "print(\"성적을 입력하시오. \")\n",
        "grade = int(input(\"성적입력: \"))\n",
        "if grade >=70:\n",
        "  print(f'70점 이상이므로 합격입니다.')\n",
        "  print(\"축하합니다. 합격입니다.\")\n",
        "else:\n",
        "  print(f'70점 이하이므로 불합격입니다.')\n",
        "  print(\"아쉽군용. 다시한번 도전하세요.\")"
      ],
      "metadata": {
        "colab": {
          "base_uri": "https://localhost:8080/"
        },
        "id": "kI0DZTnRihxy",
        "outputId": "6162800f-b078-476a-e478-4d4257f55bf0"
      },
      "execution_count": 5,
      "outputs": [
        {
          "output_type": "stream",
          "name": "stdout",
          "text": [
            "성적을 입력하시오. \n",
            "성적입력: 71\n",
            "70점 이상이므로 합격입니다.\n",
            "축하합니다. 합격입니다.\n"
          ]
        }
      ]
    },
    {
      "cell_type": "markdown",
      "source": [
        "3. 근무시간에 따라 초과근무와 정상근무를 판별하는 코드\n",
        " - work_hour\n",
        " - 코드 work_hour > 72"
      ],
      "metadata": {
        "id": "7paPZUAOiXTi"
      }
    },
    {
      "cell_type": "code",
      "source": [
        "print(\"근무시간을 입력하시오.\")\n",
        "work_hour = int(input(\"시간입력: \"))\n",
        "if work_hour > 72:\n",
        "  print(\"￣\"*9)\n",
        "  print(f'초과근무입니다.')\n",
        "  print(\"￣\"*9)\n",
        "else:\n",
        "  print(\"#\"*9)\n",
        "  print(f'#정상근무입니다.#')\n",
        "  print(\"#\"*9)"
      ],
      "metadata": {
        "colab": {
          "base_uri": "https://localhost:8080/"
        },
        "id": "UHYLJRewiVta",
        "outputId": "4111a112-0318-4ce1-97a1-73642e6c8686"
      },
      "execution_count": 9,
      "outputs": [
        {
          "output_type": "stream",
          "name": "stdout",
          "text": [
            "근무시간을 입력하시오.\n",
            "시간입력: 73\n",
            "￣￣￣￣￣￣￣￣￣\n",
            "초과근무입니다.\n",
            "￣￣￣￣￣￣￣￣￣\n"
          ]
        }
      ]
    },
    {
      "cell_type": "markdown",
      "source": [
        "4. 짝수와 홀수를 판별하는 코드\n",
        " - 사용변수: _num_\n",
        " -  수식 : (_num_ % 2) != 0:\n"
      ],
      "metadata": {
        "id": "hONVXHZCl3rj"
      }
    },
    {
      "cell_type": "code",
      "source": [
        "print(\"정수를 입력하시오.\")\n",
        "_num_ = int(input(\"정수입력: \"))\n",
        "if (_num_ % 2) != 0:\n",
        "  print(f'입력하신 {_num_}은 홀수입니다.')\n",
        "else:\n",
        "  print(f'입력하신 {_num_}은 짝수입니다.')\n"
      ],
      "metadata": {
        "id": "X_L6owObmWnZ"
      },
      "execution_count": null,
      "outputs": []
    },
    {
      "cell_type": "markdown",
      "source": [
        "5. 사용자의 이름과 나이를 물어보고, 답변하는 코드\n",
        " - 사용변수: name, age\n",
        " - 출력할 내용:\n",
        "   - 성명\n",
        "   - 나이 : 20\n",
        "   - (1) 20이하: 프로그래밍을 배우는 최적의 나이입니다.\n",
        "   - (2) 20이상:  아직도 늦지 않았습니다."
      ],
      "metadata": {
        "id": "3aaNSo6jnRRB"
      }
    },
    {
      "cell_type": "code",
      "source": [
        "print(\"사용자의 이름과 나이를 입력하시오.\")\n",
        "name = (input(\"사용자의 이름:\"))\n",
        "age = int(input(\"사용자의 나이:\"))\n",
        "if age >=20:\n",
        "  print(f'프로그래밍을 배우는 최적의 나이입니다.')\n",
        "else:\n",
        "  print(f'아직도 늦지 않았습니다. ')"
      ],
      "metadata": {
        "colab": {
          "base_uri": "https://localhost:8080/"
        },
        "id": "4-y4Bmucn6wc",
        "outputId": "57ac49f9-3944-4696-f991-b6ca59b14353"
      },
      "execution_count": 12,
      "outputs": [
        {
          "output_type": "stream",
          "name": "stdout",
          "text": [
            "사용자의 이름과 나이를 입력하시오.\n",
            "사용자의 이름:이다연\n",
            "사용자의 나이:20\n",
            "프로그래밍을 배우는 최적의 나이입니다.\n"
          ]
        }
      ]
    }
  ]
}