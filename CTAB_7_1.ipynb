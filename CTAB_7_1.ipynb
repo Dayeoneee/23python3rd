{
  "nbformat": 4,
  "nbformat_minor": 0,
  "metadata": {
    "colab": {
      "provenance": [],
      "authorship_tag": "ABX9TyMrMv/EAcdPIHfcin/2SQiT",
      "include_colab_link": true
    },
    "kernelspec": {
      "name": "python3",
      "display_name": "Python 3"
    },
    "language_info": {
      "name": "python"
    }
  },
  "cells": [
    {
      "cell_type": "markdown",
      "metadata": {
        "id": "view-in-github",
        "colab_type": "text"
      },
      "source": [
        "<a href=\"https://colab.research.google.com/github/Dayeoneee/23python3rd/blob/main/CTAB_7_1.ipynb\" target=\"_parent\"><img src=\"https://colab.research.google.com/assets/colab-badge.svg\" alt=\"Open In Colab\"/></a>"
      ]
    },
    {
      "cell_type": "markdown",
      "source": [
        "1. 일한 시간과 시급을 계산하여 출력하는 코드\n",
        "- 알한 시간(hours_worked)\n",
        "- 일한 날짜(day_worked)\n",
        "- 시급(pay_rate)\n",
        "- 월급(monthly_pay)\n",
        "\n"
      ],
      "metadata": {
        "id": "TafFCzIXn37N"
      }
    },
    {
      "cell_type": "code",
      "source": [
        "# 사용자로부터 일한 시간을 입력받습니다.\n",
        "hours_worked = int(input(\"일한 시간을 입력하시오.: \"))\n",
        "\n",
        "# 사용자로부터 시급을 입력받습니다.\n",
        "pay_rate = int(input(\"시급을 입력하시오.(23년 시급 9620): \"))\n",
        "\n",
        "# 사용자로부터 일한 날짜를 입력받습니다.\n",
        "day_worked = int(input(\"일한 날짜를 입력하시오.: \"))\n",
        "\n",
        "# 일한 날짜를 따른 총 근무 시간을 계산합니다.\n",
        "day_month = hours_worked * day_worked\n",
        "\n",
        "# 월급여를 계산합니다.\n",
        "monthly_pay = hours_worked * pay_rate  * day_worked\n",
        "\n",
        "print(f'일한시간은 {hours_worked}이며, 시급은{pay_rate}이고, 월급여는 {monthly_pay}입니다.') # 일한 시간, 시급, 월급여를 출력합니다."
      ],
      "metadata": {
        "colab": {
          "base_uri": "https://localhost:8080/"
        },
        "id": "VbRc9XanpEIh",
        "outputId": "e3e77d4f-d024-451c-e6fc-b2c15b413f17"
      },
      "execution_count": null,
      "outputs": [
        {
          "output_type": "stream",
          "name": "stdout",
          "text": [
            "일한 시간을 입력하시오.: 10\n",
            "시급을 입력하시오.(23년 시급 9620): 9620\n",
            "일한 날짜를 입력하시오.: 25\n",
            "일한시간은 10이며, 시급은9620이고, 월급여는 2405000입니다.\n"
          ]
        }
      ]
    },
    {
      "cell_type": "markdown",
      "source": [
        "2. 환전하는 코드를 작성\n",
        "- 변수 won, usd, exchange\n",
        "- 계산 won * usd"
      ],
      "metadata": {
        "id": "KcXi63vRunO7"
      }
    },
    {
      "cell_type": "code",
      "source": [
        "# 사용자로부터 환전할 달러 금액을 입력받습니다.\n",
        "usd = int(input(\"환전할 달러를 입력: \"))\n",
        "\n",
        "# 사용자로부터 달러의 환율금액을 입력받습니다.\n",
        "won = int(input(\"달러의 환율금액을 입력(231031: 1372원)\"))\n",
        "\n",
        "# 환전한 원화 금액을 계산합니다.\n",
        "exchange = won * usd\n",
        "\n",
        "print(f'환전하고 싶은 달러금액은 {usd}달러는 환율 {won}으로 계산해서, {exchange}원입니다. ') # 환전 결과를 출력합니다."
      ],
      "metadata": {
        "colab": {
          "base_uri": "https://localhost:8080/"
        },
        "id": "ia29pSeKvBmA",
        "outputId": "4a59ffba-9c14-4507-c031-db844eda3901"
      },
      "execution_count": null,
      "outputs": [
        {
          "output_type": "stream",
          "name": "stdout",
          "text": [
            "환전할 달러를 입력: 500\n",
            "달러의 환율금액을 입력(231031: 1372원)1372\n",
            "환전하고 싶은 달러금액은 500달러는 환율 1372으로 계산해서, 686000원입니다. \n"
          ]
        }
      ]
    },
    {
      "cell_type": "markdown",
      "source": [
        "3. 화씨를 섭씨로 섭씨를 화씨로 변경하는 코드\n",
        "- 화씨를 섭씨로 ℉ = ℃ * 1.8 + 32\n",
        "- 섭씨를 화씨로 ℃ = (℉ - 32) / 1.8\n",
        "- 변수 : 화씨 fathrenheit, 섭씨 celsius"
      ],
      "metadata": {
        "id": "uJjwz8hHyKCm"
      }
    },
    {
      "cell_type": "code",
      "source": [
        "fathrenheit = int(input(\"화씨를 입력하시오.: \")) # 사용자로부터 화씨 온도를 입력받는 부분입니다.\n",
        "celsius = (fathrenheit - 32) / 1.8               # 입력받은 화씨 온도를 섭씨 온도로 변환하는 부분입니다.\n",
        "print(celsius)                                   # 변환된 섭씨 온도를 출력하는 부분입니다."
      ],
      "metadata": {
        "colab": {
          "base_uri": "https://localhost:8080/"
        },
        "id": "rYAAXdJQzcVX",
        "outputId": "d3ddd400-90ec-42f0-88e1-f78e142cde64"
      },
      "execution_count": null,
      "outputs": [
        {
          "output_type": "stream",
          "name": "stdout",
          "text": [
            "화씨를 입력하시오.: 100\n",
            "37.77777777777778\n"
          ]
        }
      ]
    },
    {
      "cell_type": "code",
      "source": [
        "celsius = float(input(\"섭씨를 입력하시오.: \")) # 사용자로부터 섭씨를 입력받아 변수 celsius에 저장합니다.\n",
        "fatherenheit = celsius * 1.8 + 32              # 섭씨를 화씨로 변환하기 위래 변환 공식을 적용하여 fatherenheit 변수에 저장합니다.\n",
        "print(fatherenheit)                            # 변환된 화씨 온도를 출력합니다."
      ],
      "metadata": {
        "colab": {
          "base_uri": "https://localhost:8080/"
        },
        "id": "7dKY87UY0MeI",
        "outputId": "e237f13c-6f16-48f1-d1f5-01bdc3eacb21"
      },
      "execution_count": null,
      "outputs": [
        {
          "output_type": "stream",
          "name": "stdout",
          "text": [
            "섭씨를 입력하시오.: 37.77777777777778\n",
            "100.0\n"
          ]
        }
      ]
    }
  ]
}