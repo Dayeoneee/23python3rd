{
  "nbformat": 4,
  "nbformat_minor": 0,
  "metadata": {
    "colab": {
      "provenance": [],
      "authorship_tag": "ABX9TyOKhrmL16pkqDXR+X16SEDF",
      "include_colab_link": true
    },
    "kernelspec": {
      "name": "python3",
      "display_name": "Python 3"
    },
    "language_info": {
      "name": "python"
    }
  },
  "cells": [
    {
      "cell_type": "markdown",
      "metadata": {
        "id": "view-in-github",
        "colab_type": "text"
      },
      "source": [
        "<a href=\"https://colab.research.google.com/github/Dayeoneee/23python3rd/blob/main/CT_2nd_code.ipynb\" target=\"_parent\"><img src=\"https://colab.research.google.com/assets/colab-badge.svg\" alt=\"Open In Colab\"/></a>"
      ]
    },
    {
      "cell_type": "markdown",
      "source": [
        "2.사용자로부터 3개의 변수를 입력받아서 합을 구하고, 평균을 구하는 코드\n",
        " - 변수는 : n1, n2, n3, total, average"
      ],
      "metadata": {
        "id": "xEzIy1OklSUw"
      }
    },
    {
      "cell_type": "code",
      "execution_count": null,
      "metadata": {
        "colab": {
          "base_uri": "https://localhost:8080/"
        },
        "id": "z2qZOw6_lDyG",
        "outputId": "13553638-9f7c-4982-ea66-e08130f0cd8a"
      },
      "outputs": [
        {
          "output_type": "stream",
          "name": "stdout",
          "text": [
            "n1의 값을 입력하시오.: 50\n",
            "n2의 값을 입력하시오.: 60\n",
            "n3의 값을 입력하시오.: 70\n",
            "합계는: 180\n",
            "평균은 : 60.0\n"
          ]
        }
      ],
      "source": [
        "n1 = int(input(\"n1의 값을 입력하시오.: \"))\n",
        "n2 = int(input(\"n2의 값을 입력하시오.: \"))\n",
        "n3 = int(input(\"n3의 값을 입력하시오.: \"))\n",
        "total = n1 + n2 + n3\n",
        "print('합계는 :',total)\n",
        "average = total / 3\n",
        "print('평균은 :',average)\n"
      ]
    },
    {
      "cell_type": "markdown",
      "source": [
        "위 코드는 사용자로부터 입력받은 세 개의 정수를 더한 후, 합계와 평균을 출력하는 코드입니다.\n",
        "\n",
        "n1 = int(input(\"n1의 값을 입력하시오.: \"))를 사용하여 사용자로부터 n1의 값을 입력받아 정수형으로 변환하여 변수 n1에 저장합니다.\n",
        "n2 = int(input(\"n2의 값을 입력하시오.: \"))를 사용하여 사용자로부터 n2의 값을 입력받아 정수형으로 변환하여 변수 n2에 저장합니다.\n",
        "n3 = int(input(\"n3의 값을 입력하시오.: \"))를 사용하여 사용자로부터 n3의 값을 입력받아 정수형으로 변환하여 변수 n3에 저장합니다.\n",
        "total = n1 + n2 + n3를 사용하여 n1, n2, n3의 값을 더한 결과를 변수 total에 저장합니다.\n",
        "print('합계는:', total)을 사용하여 변수 total을 출력합니다.\n",
        "average = total / 3를 사용하여 변수 total을 3으로 나눈 평균을 변수 average에 저장합니다.\n",
        "print('평균은:', average)를 사용하여 변수 average를 출력합니다.\n",
        "위 과정을 통해 사용자로부터 입력받은 세 개의 정수를 더한 후, 합계와 평균을 출력합니다. 예를 들어, 사용자가 5, 7, 9를 입력했다면 합계는 21이 되고, 평균은 7이 출력됩니다."
      ],
      "metadata": {
        "id": "DKpTbEzTq__y"
      }
    }
  ]
}