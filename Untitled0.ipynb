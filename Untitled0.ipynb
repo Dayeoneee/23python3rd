{
  "nbformat": 4,
  "nbformat_minor": 0,
  "metadata": {
    "colab": {
      "provenance": [],
      "authorship_tag": "ABX9TyNLx1AdA3FUSfMQ5+/fPnkV",
      "include_colab_link": true
    },
    "kernelspec": {
      "name": "python3",
      "display_name": "Python 3"
    },
    "language_info": {
      "name": "python"
    }
  },
  "cells": [
    {
      "cell_type": "markdown",
      "metadata": {
        "id": "view-in-github",
        "colab_type": "text"
      },
      "source": [
        "<a href=\"https://colab.research.google.com/github/Dayeoneee/23python3rd/blob/main/Untitled0.ipynb\" target=\"_parent\"><img src=\"https://colab.research.google.com/assets/colab-badge.svg\" alt=\"Open In Colab\"/></a>"
      ]
    },
    {
      "cell_type": "markdown",
      "source": [
        "3. 사용자로부터 2개의 정수를 받아서 합계를 출력\n",
        "- 정수 x\n",
        "- 정수 y"
      ],
      "metadata": {
        "id": "sSnXbVoUoJTK"
      }
    },
    {
      "cell_type": "code",
      "execution_count": 8,
      "metadata": {
        "colab": {
          "base_uri": "https://localhost:8080/"
        },
        "id": "K3DrYPJVoEQL",
        "outputId": "921f7e05-5e2e-493d-b6fe-f1c2d69ae8ac"
      },
      "outputs": [
        {
          "output_type": "stream",
          "name": "stdout",
          "text": [
            "정수 2개를 입력하시오.: \n",
            "x의 값을 입력하시오오.: 4\n",
            "y의 값을 입력하시오.: 3\n",
            "7\n",
            "4 + 3 의 값은 7이다. \n"
          ]
        }
      ],
      "source": [
        "print (\"정수 2개를 입력하시오.: \")\n",
        "x = int(input(\"x의 값을 입력하시오오.: \"))\n",
        "y = int(input(\"y의 값을 입력하시오.: \"))\n",
        "sum = x + y\n",
        "print (sum)\n",
        "print (f'{x} + {y} 의 값은 {sum}이다. ')"
      ]
    },
    {
      "cell_type": "markdown",
      "source": [
        "4. 부가세 계산\n",
        "- 상품의 가격 (price)\n",
        "- 부가세 (vat)"
      ],
      "metadata": {
        "id": "ZjCD8XgB4hi7"
      }
    },
    {
      "cell_type": "code",
      "source": [
        "print(\"상품의 가격을 입력하시오.: \")\n",
        "price = int(input(\"상품의 가격: \"))\n",
        "vat = price * 0.1\n",
        "print(vat)\n",
        "print (f'상품의 가격은 {price}이며, 부가세는 {vat}이다. ')"
      ],
      "metadata": {
        "colab": {
          "base_uri": "https://localhost:8080/"
        },
        "id": "ABpOj2Qc47Ce",
        "outputId": "16105330-7927-4e42-d545-32feadff4425"
      },
      "execution_count": 9,
      "outputs": [
        {
          "output_type": "stream",
          "name": "stdout",
          "text": [
            "상품의 가격을 입력하시오.: \n",
            "상품의 가격: 10000\n",
            "1000.0\n",
            "상품의 가격은 10000이며, 부가세는 1000.0이다. \n"
          ]
        }
      ]
    }
  ]
}