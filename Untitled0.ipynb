{
  "nbformat": 4,
  "nbformat_minor": 0,
  "metadata": {
    "colab": {
      "provenance": [],
      "authorship_tag": "ABX9TyPG7oAJSji3C1k6ykDjy4Fi",
      "include_colab_link": true
    },
    "kernelspec": {
      "name": "python3",
      "display_name": "Python 3"
    },
    "language_info": {
      "name": "python"
    }
  },
  "cells": [
    {
      "cell_type": "markdown",
      "metadata": {
        "id": "view-in-github",
        "colab_type": "text"
      },
      "source": [
        "<a href=\"https://colab.research.google.com/github/Dayeoneee/23python3rd/blob/main/Untitled0.ipynb\" target=\"_parent\"><img src=\"https://colab.research.google.com/assets/colab-badge.svg\" alt=\"Open In Colab\"/></a>"
      ]
    },
    {
      "cell_type": "markdown",
      "source": [
        "3. 사용자로부터 2개의 정수를 받아서 합계를 출력\n",
        "- 정수 x\n",
        "- 정수 y"
      ],
      "metadata": {
        "id": "sSnXbVoUoJTK"
      }
    },
    {
      "cell_type": "code",
      "execution_count": null,
      "metadata": {
        "colab": {
          "base_uri": "https://localhost:8080/"
        },
        "id": "K3DrYPJVoEQL",
        "outputId": "921f7e05-5e2e-493d-b6fe-f1c2d69ae8ac"
      },
      "outputs": [
        {
          "output_type": "stream",
          "name": "stdout",
          "text": [
            "정수 2개를 입력하시오.: \n",
            "x의 값을 입력하시오오.: 4\n",
            "y의 값을 입력하시오.: 3\n",
            "7\n",
            "4 + 3 의 값은 7이다. \n"
          ]
        }
      ],
      "source": [
        "print (\"정수 2개를 입력하시오.: \")         # 사용자에게 정수 2개 입력을 요청하는 메세지를 출력합니다.\n",
        "x = int(input(\"x의 값을 입력하시오오.: \")) # 사용자로부터 x의 값을 입력받아 정수형으로 변환하여 변수 x에 저장합니다.\n",
        "y = int(input(\"y의 값을 입력하시오.: \"))   # 사용자로부터 y의 값을 입력받아 정수형으로 변환하여 변수 y에 저장합니다.\n",
        "sum = x + y                                # 변수 x와 y를 더한 값을 변수 sum에 저장합니다.\n",
        "print (sum)                                # 변수 sum을 출력합니다.\n",
        "print (f'{x} + {y} 의 값은 {sum}이다. ')   # x와 y의 값을 포함한 덧셉 결과를 출력합니다."
      ]
    },
    {
      "cell_type": "markdown",
      "source": [
        "위 코드는 사용자로부터 입력받은 두 정수를 더한 결과를 출력하는 코드입니다.\n",
        "\n",
        "print(\"정수 2개를 입력하시오.: \")를 사용하여 사용자에게 정수 2개 입력을 요청하는 메시지를 출력합니다.\n",
        "input 함수를 사용하여 사용자로부터 x의 값을 입력받아 정수형으로 변환하여 변수 x에 저장합니다.\n",
        "x = int(input(\"x의 값을 입력하시오오.: \"))\n",
        "input 함수를 사용하여 사용자로부터 y의 값을 입력받아 정수형으로 변환하여 변수 y에 저장합니다.\n",
        "y = int(input(\"y의 값을 입력하시오.: \"))\n",
        "sum = x + y를 사용하여 변수 x와 y를 더한 값을 변수 sum에 저장합니다.\n",
        "print(sum)을 사용하여 변수 sum을 출력합니다.\n",
        "print(f'{x} + {y}의 값은 {sum}이다. ')를 사용하여 x와 y의 값을 포함한 덧셈 결과를 출력합니다.\n",
        "출력 형식은 {x} + {y}의 값은 {sum}이다.입니다.\n",
        "위 과정을 통해 사용자로부터 입력받은 두 정수를 더한 결과를 출력합니다. 또한, 덧셈 결과를 포함한 메시지도 출력합니다. 예를 들어, 사용자가 3과 5를 입력했다면 3과 5를 더한 값인 8을 출력합니다. 또한, \"3 + 5의 값은 8이다.\"라는 메시지를 출력합니다."
      ],
      "metadata": {
        "id": "a15XzfBgpSBF"
      }
    },
    {
      "cell_type": "markdown",
      "source": [
        "4. 부가세 계산\n",
        "- 상품의 가격 (price)\n",
        "- 부가세 (vat)"
      ],
      "metadata": {
        "id": "ZjCD8XgB4hi7"
      }
    },
    {
      "cell_type": "code",
      "source": [
        "print(\"상품의 가격을 입력하시오.: \")                       # 사용자에게 상품의 가격 입력을 요청하는 메세지를 출력합니다.\n",
        "price = int(input(\"상품의 가격: \"))                        # 사용자로부터 상품의 가격을 입력받아 정수형으로 변환하여 변수 price에 저장합니다.\n",
        "vat = price * 0.1                                          # 가격에 10%의 부가세를 계산하여 변수 vat에 저장합니다.\n",
        "print(vat)                                                 # 부가세를 출력합니다.\n",
        "print (f'상품의 가격은 {price}이며, 부가세는 {vat}이다. ') # 상품의 가격과 부가세를 포함한 메세지를 출력합니다."
      ],
      "metadata": {
        "colab": {
          "base_uri": "https://localhost:8080/"
        },
        "id": "ABpOj2Qc47Ce",
        "outputId": "16105330-7927-4e42-d545-32feadff4425"
      },
      "execution_count": null,
      "outputs": [
        {
          "output_type": "stream",
          "name": "stdout",
          "text": [
            "상품의 가격을 입력하시오.: \n",
            "상품의 가격: 10000\n",
            "1000.0\n",
            "상품의 가격은 10000이며, 부가세는 1000.0이다. \n"
          ]
        }
      ]
    },
    {
      "cell_type": "markdown",
      "source": [
        "위 코드는 사용자로부터 입력받은 상품의 가격에 대한 부가세를 계산하고 출력하는 코드입니다.\n",
        "\n",
        "print(\"상품의 가격을 입력하시오.: \")를 사용하여 사용자에게 상품의 가격 입력을 요청하는 메시지를 출력합니다.\n",
        "input 함수를 사용하여 사용자로부터 상품의 가격을 입력받아 정수형으로 변환하여 변수 price에 저장합니다.\n",
        "price = int(input(\"상품의 가격: \"))\n",
        "vat = price * 0.1을 사용하여 가격에 10%의 부가세를 계산하여 변수 vat에 저장합니다.\n",
        "print(vat)을 사용하여 부가세를 출력합니다.\n",
        "print(f'상품의 가격은 {price}이며, 부가세는 {vat}이다. ')를 사용하여 상품의 가격과 부가세를 포함한 메시지를 출력합니다.\n",
        "위 과정을 통해 사용자로부터 입력받은 상품의 가격에 대한 부가세를 계산하고 출력합니다. 또한, 상품의 가격과 부가세를 포함한 메시지도 출력합니다. 예를 들어, 사용자가 10000을 입력했다면 부가세는 1000이 되며, \"상품의 가격은 10000이며, 부가세는 1000이다.\"라는 메시지가 출력됩니다."
      ],
      "metadata": {
        "id": "ieXKSlyIpc_V"
      }
    }
  ]
}