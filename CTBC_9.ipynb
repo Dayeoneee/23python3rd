{
  "nbformat": 4,
  "nbformat_minor": 0,
  "metadata": {
    "colab": {
      "provenance": [],
      "authorship_tag": "ABX9TyNeNyB8LqtNhZqT9f16YuV/",
      "include_colab_link": true
    },
    "kernelspec": {
      "name": "python3",
      "display_name": "Python 3"
    },
    "language_info": {
      "name": "python"
    }
  },
  "cells": [
    {
      "cell_type": "markdown",
      "metadata": {
        "id": "view-in-github",
        "colab_type": "text"
      },
      "source": [
        "<a href=\"https://colab.research.google.com/github/Dayeoneee/23python3rd/blob/main/CTBC_9.ipynb\" target=\"_parent\"><img src=\"https://colab.research.google.com/assets/colab-badge.svg\" alt=\"Open In Colab\"/></a>"
      ]
    },
    {
      "cell_type": "markdown",
      "source": [
        "1. 두가지 이상의 선탣, 다방향 선태구조 코딩\n",
        " - 배송료 처리 3가지로 코딩\n",
        " - 변수 : price\n",
        " - 조건 : 10만원 이상 배송료 0, 2만원 이상은 3천원, 2만원 이하면 5천원"
      ],
      "metadata": {
        "id": "_kW7pTnSrS2x"
      }
    },
    {
      "cell_type": "code",
      "source": [
        "price = int(input(\"구입금액 입력: \"))         # 변수 price 사용자가 정수형 금액입력\n",
        "if price >= 100000:                           # price의 값이 10만원보다 크거나 같으면\n",
        "  shipping_cost = 0                           # 선택1. 배송료 (shipping_cost)는 0원\n",
        "else:                                         # 그게 아니면\n",
        "  if price >= 20000:                          # price의 값이 2만원보다 크거나 같으면\n",
        "     shipping_cost = 3000                     # 배송료 (shipping_cost)는 3000원\n",
        "  else:                                       # 그것도 아니면\n",
        "     shipping_cost = 5000                     # 선택3. 배송료 (shipping_cost)는 5000원\n",
        "print(f'배송료는 {shipping_cost}원 입니다.')  # F-String문자 Formt을 최종 배송료 출력"
      ],
      "metadata": {
        "colab": {
          "base_uri": "https://localhost:8080/"
        },
        "id": "KZK5faYzsmHO",
        "outputId": "b1c2485e-ee42-4a7b-fd83-3f596b0fa0de"
      },
      "execution_count": null,
      "outputs": [
        {
          "output_type": "stream",
          "name": "stdout",
          "text": [
            "구입금액 입력: 200000\n",
            "배송료는 0원 입니다.\n"
          ]
        }
      ]
    },
    {
      "cell_type": "markdown",
      "source": [
        "2. 반복구조를 이용한 \"환영합니다.\"를 5번 출력하는 코드작성\n",
        " - 변수 : welcome\n",
        " - 출력내용 : 환영합니다.를 세로로 5번, 10번, 30번"
      ],
      "metadata": {
        "id": "vB5iUUwdyqWU"
      }
    },
    {
      "cell_type": "code",
      "source": [
        "print (\"환영합니다.\") # 환영 메세지를 출력합니다.\n",
        "print (\"환영합니다.\") # 환영 메세지를 출력합니다.\n",
        "print (\"환영합니다.\") # 환영 메세지를 출력합니다.\n",
        "print (\"환영합니다.\") # 환영 메세지를 출력합니다.\n",
        "print (\"환영합니다.\") # 환영 메세지를 출력합니다."
      ],
      "metadata": {
        "colab": {
          "base_uri": "https://localhost:8080/"
        },
        "id": "Id8YsWbozAfD",
        "outputId": "2ecb7e98-9d5e-40ac-c885-403861c36b41"
      },
      "execution_count": null,
      "outputs": [
        {
          "output_type": "stream",
          "name": "stdout",
          "text": [
            "환영합니다.\n",
            "환영합니다.\n",
            "환영합니다.\n",
            "환영합니다.\n",
            "환영합니다.\n"
          ]
        }
      ]
    },
    {
      "cell_type": "code",
      "source": [
        "print (\"환영합니다.\\n\" *5) # \"환영합니다.\" 문자열을 5번 반복하여 출력합니다."
      ],
      "metadata": {
        "colab": {
          "base_uri": "https://localhost:8080/"
        },
        "id": "q_rX-WZyzaVT",
        "outputId": "b5c6dcaa-c11c-4f9c-b1f7-042e5d03fc81"
      },
      "execution_count": null,
      "outputs": [
        {
          "output_type": "stream",
          "name": "stdout",
          "text": [
            "환영합니다.\n",
            "환영합니다.\n",
            "환영합니다.\n",
            "환영합니다.\n",
            "환영합니다.\n",
            "\n"
          ]
        }
      ]
    },
    {
      "cell_type": "code",
      "source": [
        "count = 1                                 # 초기값으로 count를 1로 설정합니다.\n",
        "while count <= 5:                         # count가 5보다 작거나 같은 동안 반복합니다.\n",
        "  print (\"(\", count, \")\", \"환영합니다. \") # count 값과 \"환영합니다.\" 메세지를 출력합니다.\n",
        "  count = count + 1                       # count 값을 1씩 증가시킵니다."
      ],
      "metadata": {
        "colab": {
          "base_uri": "https://localhost:8080/"
        },
        "id": "Pj8iLEGzzsWg",
        "outputId": "09c68b03-e234-4e7e-b0b9-8f2d98b5e4e1"
      },
      "execution_count": null,
      "outputs": [
        {
          "output_type": "stream",
          "name": "stdout",
          "text": [
            "( 1 ) 환영합니다. \n",
            "( 2 ) 환영합니다. \n",
            "( 3 ) 환영합니다. \n",
            "( 4 ) 환영합니다. \n",
            "( 5 ) 환영합니다. \n"
          ]
        }
      ]
    },
    {
      "cell_type": "markdown",
      "source": [
        "3. 0부터 9까지 출력하는 코드 작성\n",
        " - 변수 : x"
      ],
      "metadata": {
        "id": "rF6rW9-71hqu"
      }
    },
    {
      "cell_type": "code",
      "source": [
        "x = 0               # 초기값으로 x를 0으로 설정합니다.\n",
        "while x < 10:       # x가 10보다 작은 동안 반복합니다.\n",
        "  #print(x)         # x 값을 출력합니다.( 주석 처리된 부분)\n",
        "  print(x, end=' ') # x 값을 출력하고, 공뱍 문자로 끝을 처리합니다.\n",
        "  x = x + 1         # x 값을 1씩 증가시킵니다."
      ],
      "metadata": {
        "colab": {
          "base_uri": "https://localhost:8080/"
        },
        "id": "E7-PI7Pc1rbV",
        "outputId": "9dd8b3fe-a266-4562-a47f-444a69aa84e5"
      },
      "execution_count": null,
      "outputs": [
        {
          "output_type": "stream",
          "name": "stdout",
          "text": [
            "0 1 2 3 4 5 6 7 8 9 "
          ]
        }
      ]
    },
    {
      "cell_type": "markdown",
      "source": [
        "4. 1부터 10까지 합산하는 코드 작성"
      ],
      "metadata": {
        "id": "Om1xRAwZ3EU4"
      }
    },
    {
      "cell_type": "code",
      "source": [
        "x = 1                # 초기값으로 x를 1로 설정합니다.\n",
        "total = 0            # 초기값으로 total을 0으로 설정합니다.\n",
        "while x <= 10:       # x가 10보다 작거나 같은 동압 반복합니다.\n",
        "  total += x         # total에 x 값을 더합니다.\n",
        "  #total = total + 1 # total에 1을 더하는 것이 아니라, x 값을 더해야 합니다. (주석 처리된 부분)\n",
        "  #x = x + 1         # x 값을 1씩 증가시킵니다.\n",
        "  x += 1\n",
        "print(total)         # 최종적으로 total 값을 출력합니다."
      ],
      "metadata": {
        "colab": {
          "base_uri": "https://localhost:8080/"
        },
        "id": "3BzO9Ync3J8M",
        "outputId": "ad1dfe75-175f-4d6c-b31d-093cac535cc5"
      },
      "execution_count": null,
      "outputs": [
        {
          "output_type": "stream",
          "name": "stdout",
          "text": [
            "55\n"
          ]
        }
      ]
    },
    {
      "cell_type": "markdown",
      "source": [
        "5. 3-6-9 게임 (3의 배수 판단): 3의 배수\n",
        "3으로 나누면 나머지가 0이 되므로 (i mod 3)의 값이 0이면 박수를 출력, 아니면 숫자 출력하는 코드"
      ],
      "metadata": {
        "id": "F1Rz_aQy4MSk"
      }
    },
    {
      "cell_type": "code",
      "source": [
        "for num in range(1, 11):\n",
        "  if num % 3 == 0:\n",
        "    print(\"박수\", end=' ') # num이 3의 배수인 경우 \"박수\"를 출력하고, 출력의 끝을 공백 문자로 처리합니다.\n",
        "  else:\n",
        "   print(num, end=' ')     # num이 3의 배수가 아닌 경우 num 값을 출력하고, 출력의 끝을 공백 문자로 처리합니다."
      ],
      "metadata": {
        "colab": {
          "base_uri": "https://localhost:8080/"
        },
        "id": "ynUBzrGr4p5j",
        "outputId": "c1601873-47de-4608-f54b-35eaf5d85a01"
      },
      "execution_count": null,
      "outputs": [
        {
          "output_type": "stream",
          "name": "stdout",
          "text": [
            "1 2 박수 4 5 박수 7 8 박수 10 "
          ]
        }
      ]
    },
    {
      "cell_type": "code",
      "source": [
        "num = 1                    # 초기값으로 num을 1로 설정합니다.\n",
        "while num <= 20:           # num이 20보다 작거나 같은 동안 반복합니다.\n",
        "  if num % 3 == 0:         # num이 3의 배수인 경우\n",
        "    print(\"박수\", end=' ') # \"박수\"를 출력하고, 출력의 끝을 공백 문자로 처리합니다.\n",
        "  else:                    # num이 3의 배수가 아닌 경우\n",
        "    print(num, end=' ')    # num 값을 출력하고, 출력의 끝을 공백 문자로 처리합니다.\n",
        "  num += 1                 # num 값을 1씩 증가시킵니다. (주석 처리된 부분)"
      ],
      "metadata": {
        "colab": {
          "base_uri": "https://localhost:8080/"
        },
        "id": "vZEkOCP749M3",
        "outputId": "586bdd1d-b3bd-4dcb-f090-36be4299d300"
      },
      "execution_count": null,
      "outputs": [
        {
          "output_type": "stream",
          "name": "stdout",
          "text": [
            "1 2 박수 4 5 박수 7 8 박수 10 11 박수 13 14 박수 16 17 박수 19 20 "
          ]
        }
      ]
    },
    {
      "cell_type": "markdown",
      "source": [
        "6. 팩토리얼 계산하는 코드작성\n",
        " - 1! =1, 2! =2(1)=2, 3! =3(2)(1)=6\n",
        "\n"
      ],
      "metadata": {
        "id": "-wSgueokc3bx"
      }
    },
    {
      "cell_type": "code",
      "source": [
        "i = 5              # 초기값으로 i를 5로 설정합니다.\n",
        "factorial = 1      # 초기값으로 factorial을 1로 설정합니다.\n",
        "while i >= 10:     # i가 10보다 크거나 같은 동안 반복합니다. (주석 처리된 부분)\n",
        "  factorial *= i   # factorial에 i 값을 곱합니다.\n",
        "  i -= 1           # i 값을 1씩 감소시킵니다.\n",
        "  print(factorial) # 현재의 factorial 값을 출력합니다."
      ],
      "metadata": {
        "id": "MIdzj171c7BO"
      },
      "execution_count": null,
      "outputs": []
    },
    {
      "cell_type": "code",
      "source": [
        "# 계산할 숫자를 입력받습니다.\n",
        "num = int(input(\"팩토리얼을 계산할 숫자를 입력하시오.: \"))\n",
        "\n",
        "# 초기값으로 1을 설정합니다.\n",
        "factorial = 1\n",
        "\n",
        "# 팩토리얼 계산을 위한 박복문인 while 입니다.\n",
        "while num >=1:                  # num값이 1보다 크거나 같을 때 하위 문장(코드)를 진행\n",
        "  factorial = factorial * num   # 현재 num값을 factorial값에 곱해줍니다.\n",
        "  num -= 1                      # num값을 1씩 감소시킵니다.\n",
        "\n",
        "print(f' 계산된 팩토리얼 값은 {factorial}입니다. ') # 계산된 팩토리얼 값을 출력합니다."
      ],
      "metadata": {
        "colab": {
          "base_uri": "https://localhost:8080/"
        },
        "id": "i32fODQNc7jv",
        "outputId": "be1de0f8-d45e-48fe-ca26-1a406ee73a85"
      },
      "execution_count": null,
      "outputs": [
        {
          "output_type": "stream",
          "name": "stdout",
          "text": [
            "팩토리얼을 계산할 숫자를 입력하시오.: 5\n",
            " 계산된 팩토리얼 값은 120입니다. \n"
          ]
        }
      ]
    },
    {
      "cell_type": "markdown",
      "source": [
        "7. 구구단 출력해주는 코드 작성\n",
        " - 변수 : dan\n",
        " - 반복문(1) : for문 사용\n",
        " - 반복문(2) : while문 사용"
      ],
      "metadata": {
        "id": "vwxJ44zPe5io"
      }
    },
    {
      "cell_type": "code",
      "source": [
        "# for문 사용\n",
        "\n",
        "# 사용자로부터 출력할 구구단의 단을 입력받습니다.\n",
        "dan = int (input(\"구구단에서 몇단을 출력할까요: \"))\n",
        "\n",
        "# 1부터 9까지 반복하면서 구구단을 출력하는 반복문인 for문입니다.\n",
        "for i in range(1, 10):\n",
        "    print(dan, \"x\", i, \"=\", dan * i) # 구구단을 출력합니다."
      ],
      "metadata": {
        "colab": {
          "base_uri": "https://localhost:8080/"
        },
        "id": "pP0MO0vSfMB-",
        "outputId": "1160e07d-f10d-4bfa-d82f-e57198bce099"
      },
      "execution_count": null,
      "outputs": [
        {
          "output_type": "stream",
          "name": "stdout",
          "text": [
            "구구단에서 몇단을 출력할까요: 4\n",
            "4 x 1 = 4\n",
            "4 x 2 = 8\n",
            "4 x 3 = 12\n",
            "4 x 4 = 16\n",
            "4 x 5 = 20\n",
            "4 x 6 = 24\n",
            "4 x 7 = 28\n",
            "4 x 8 = 32\n",
            "4 x 9 = 36\n"
          ]
        }
      ]
    },
    {
      "cell_type": "code",
      "source": [
        "# while문 사용\n",
        "\n",
        "# 사용자로부터 출력할 구구단의 단을 입력받습니다.\n",
        "dan = int(input(\"구구단에서 몇단을 출력할래?: \"))\n",
        "\n",
        "# 초기값을 i를 1로 설정합니다.\n",
        "i = 1\n",
        "\n",
        "# i가 9보다 작거나 같은 동안 반복하는 반복문인 while문입니다.\n",
        "while i <= 9:\n",
        "      print(dan, \"x\", i, \"=\", dan * i) # 구구단을 출력합니다.\n",
        "      i += 1                           # i 값을 1씩 증가시킵니다. (주석 처리된 부분)"
      ],
      "metadata": {
        "colab": {
          "base_uri": "https://localhost:8080/"
        },
        "id": "3XHd8P3Gf5gR",
        "outputId": "b475fa13-28f7-426b-9b50-51c98dacb238"
      },
      "execution_count": null,
      "outputs": [
        {
          "output_type": "stream",
          "name": "stdout",
          "text": [
            "구구단에서 몇단을 출력할래?: 9\n",
            "9 x 1 = 9\n",
            "9 x 2 = 18\n",
            "9 x 3 = 27\n",
            "9 x 4 = 36\n",
            "9 x 5 = 45\n",
            "9 x 6 = 54\n",
            "9 x 7 = 63\n",
            "9 x 8 = 72\n",
            "9 x 9 = 81\n"
          ]
        }
      ]
    }
  ]
}