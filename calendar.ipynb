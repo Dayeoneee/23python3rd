{
  "nbformat": 4,
  "nbformat_minor": 0,
  "metadata": {
    "colab": {
      "provenance": [],
      "authorship_tag": "ABX9TyPaiCmbzEdevRITq5UoOkam",
      "include_colab_link": true
    },
    "kernelspec": {
      "name": "python3",
      "display_name": "Python 3"
    },
    "language_info": {
      "name": "python"
    }
  },
  "cells": [
    {
      "cell_type": "markdown",
      "metadata": {
        "id": "view-in-github",
        "colab_type": "text"
      },
      "source": [
        "<a href=\"https://colab.research.google.com/github/Dayeoneee/23python3rd/blob/main/calendar.ipynb\" target=\"_parent\"><img src=\"https://colab.research.google.com/assets/colab-badge.svg\" alt=\"Open In Colab\"/></a>"
      ]
    },
    {
      "cell_type": "code",
      "execution_count": 2,
      "metadata": {
        "colab": {
          "base_uri": "https://localhost:8080/"
        },
        "id": "jXGsrtNPY1Z5",
        "outputId": "8e9a2ef9-3e9d-44cb-cec3-da14c1d82004"
      },
      "outputs": [
        {
          "output_type": "stream",
          "name": "stdout",
          "text": [
            "    October 2023\n",
            "Mo Tu We Th Fr Sa Su\n",
            "                   1\n",
            " 2  3  4  5  6  7  8\n",
            " 9 10 11 12 13 14 15\n",
            "16 17 18 19 20 21 22\n",
            "23 24 25 26 27 28 29\n",
            "30 31\n",
            "\n"
          ]
        }
      ],
      "source": [
        "import calendar\n",
        "yy = 2023       # Year\n",
        "mm = 10       # minth\n",
        "# display the calendar\n",
        "print(calendar. month(yy, mm))"
      ]
    },
    {
      "cell_type": "markdown",
      "source": [
        "오늘의 to do list\n",
        "2023년 10월 19일\n",
        "- 09:10~11:00 컴퓨팅적사고와 기초코딩\n",
        "- 11:00~12:00 아동건강교육\n",
        "- 12:10~13:00 점심\n",
        "- 13:00~15:00 시험공부 및 자유시간\n",
        "- 15:00~16:00 낮잠\n",
        "- 16:30~17:00 이동\n",
        "- 17:00~21:30 알바"
      ],
      "metadata": {
        "id": "2hEfux3oasgW"
      }
    },
    {
      "cell_type": "code",
      "source": [
        "print(\"오늘의 to do list 2023년 10월 19일\")\n",
        "print(\"09:10~11:00 컴퓨팅적 사고와 기초코딩\")\n",
        "print(\"11:00~12:00 아동건강교육\")\n",
        "print(\"12:10~13:00 점심\")\n",
        "print(\"13:00~15:00 시험공부 및 자유시간\")\n",
        "print(\"15:00~16:00 낮잠\")\n",
        "print(\"16:30~17:00 이동\")\n",
        "print(\"17:00~21:30 알바\")"
      ],
      "metadata": {
        "colab": {
          "base_uri": "https://localhost:8080/"
        },
        "id": "0oyVuvLLcLDO",
        "outputId": "d3100927-aa74-4c13-9265-4e9d0a7132a3"
      },
      "execution_count": 6,
      "outputs": [
        {
          "output_type": "stream",
          "name": "stdout",
          "text": [
            "오늘의 to do list 2023년 10월 19일\n",
            "09:10~11:00 컴퓨팅적 사고와 기초코딩\n",
            "11:00~12:00 아동건강교육\n",
            "12:10~13:00 점심\n",
            "13:00~15:00 시험공부 및 자유시간\n",
            "15:00~16:00 낮잠\n",
            "16:30~17:00 이동\n",
            "17:00~21:30 알바\n"
          ]
        }
      ]
    }
  ]
}