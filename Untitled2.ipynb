{
  "nbformat": 4,
  "nbformat_minor": 0,
  "metadata": {
    "colab": {
      "provenance": [],
      "authorship_tag": "ABX9TyMiJOTxMjV5eEfdsS9JKn/S",
      "include_colab_link": true
    },
    "kernelspec": {
      "name": "python3",
      "display_name": "Python 3"
    },
    "language_info": {
      "name": "python"
    }
  },
  "cells": [
    {
      "cell_type": "markdown",
      "metadata": {
        "id": "view-in-github",
        "colab_type": "text"
      },
      "source": [
        "<a href=\"https://colab.research.google.com/github/Dayeoneee/23python3rd/blob/main/Untitled2.ipynb\" target=\"_parent\"><img src=\"https://colab.research.google.com/assets/colab-badge.svg\" alt=\"Open In Colab\"/></a>"
      ]
    },
    {
      "cell_type": "code",
      "execution_count": 1,
      "metadata": {
        "colab": {
          "base_uri": "https://localhost:8080/"
        },
        "id": "an8t2XhNvrLo",
        "outputId": "0651d03b-0c11-4dca-fe16-bffeae1a449c"
      },
      "outputs": [
        {
          "output_type": "stream",
          "name": "stdout",
          "text": [
            "성적을 입력하시오.:90\n",
            "성적을 입력하시오.:85\n",
            "성적을 입력하시오.:71\n",
            "성적을 입력하시오.:78\n",
            "성적을 입력하시오.:88\n",
            "성적을 입력하시오.:95\n",
            "성적을 입력하시오.:75\n",
            "성적을 입력하시오.:68\n",
            "성적을 입력하시오.:74\n",
            "성적을 입력하시오.:60\n",
            "78.4\n"
          ]
        }
      ],
      "source": [
        "# 10명의 성적을 입력 받아 평균을 내는 프로그램을 만든다.\n",
        "# 반복문과 조건문을 사용한다.\n",
        "# 변수는 total, counter, grade, average\n",
        "total = 0                                   # 변수 total은 0으로 선언하였다.\n",
        "counter = 1                                 # 변수 counter는 1로 선언하였다.\n",
        "while counter <= 10:                        # 반복문 while를 사용하여 counter가 10보다 작거나 같을 때 다음 내부 문장으로 넘어간다.\n",
        "  grade = int(input(\"성적을 입력하시오.:\")) # 변수 grade에 int(정수형 변환)와 사용자로부터 입력을 받는 input을 저징힌디.\n",
        "  total = grade + total                     # 변수 total에 성적 grade와 total을 합한 값을 선언한다.\n",
        "  counter = counter + 1                     # 변수 counter는 조기 선언한 counter의 값에 실행할 때마다 1씩 추가된다.\n",
        "average = total/10                          # 변수 average에 반복문에서 계산한 total값을 10으로 나눈다.\n",
        "print(average)\n",
        "# write by 이다연"
      ]
    },
    {
      "cell_type": "markdown",
      "source": [
        "위 프로그램은 10명의 성적을 입력받아 평균을 계산하는 프로그램입니다.\n",
        "코드를 분석해보면 다음과 같은 동작을 수행합니다:\n",
        "\n",
        "total 변수를 0으로 초기화합니다.\n",
        "counter 변수를 1로 초기화합니다.\n",
        "counter가 10 이하인 동안 반복하는 while 루프를 실행합니다.\n",
        "반복문 내부에서 사용자로부터 성적을 입력받아 grade 변수에 저장합니다.\n",
        "total 변수에 grade와 total 값을 더하여 총합을 계산합니다.\n",
        "counter 변수에 1을 더하여 다음 반복을 위해 증가시킵니다.\n",
        "반복문이 종료되면 total 값을 10으로 나누어 평균값을 계산하여 average 변수에 저장합니다.\n",
        "average 값을 출력합니다.\n",
        "위 프로그램은 사용자로부터 10명의 성적을 입력받고, 입력된 성적의 평균을 계산하여 출력하는 기능을 수행합니다."
      ],
      "metadata": {
        "id": "gpoiwHYezh-f"
      }
    }
  ]
}