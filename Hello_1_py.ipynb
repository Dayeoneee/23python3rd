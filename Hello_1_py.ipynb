{
  "nbformat": 4,
  "nbformat_minor": 0,
  "metadata": {
    "colab": {
      "provenance": [],
      "authorship_tag": "ABX9TyOcIlgk5T6REfSvkbz6WY/2",
      "include_colab_link": true
    },
    "kernelspec": {
      "name": "python3",
      "display_name": "Python 3"
    },
    "language_info": {
      "name": "python"
    }
  },
  "cells": [
    {
      "cell_type": "markdown",
      "metadata": {
        "id": "view-in-github",
        "colab_type": "text"
      },
      "source": [
        "<a href=\"https://colab.research.google.com/github/Dayeoneee/23python3rd/blob/main/Hello_1_py.ipynb\" target=\"_parent\"><img src=\"https://colab.research.google.com/assets/colab-badge.svg\" alt=\"Open In Colab\"/></a>"
      ]
    },
    {
      "cell_type": "code",
      "execution_count": 2,
      "metadata": {
        "colab": {
          "base_uri": "https://localhost:8080/",
          "height": 146
        },
        "id": "qyOmuVL02CsA",
        "outputId": "4a763405-8fb1-4af1-8b8b-f817a70ea5d9"
      },
      "outputs": [
        {
          "output_type": "error",
          "ename": "SyntaxError",
          "evalue": "ignored",
          "traceback": [
            "\u001b[0;36m  File \u001b[0;32m\"<ipython-input-2-1c1db7ecb0a4>\"\u001b[0;36m, line \u001b[0;32m2\u001b[0m\n\u001b[0;31m    Hello World\u001b[0m\n\u001b[0m          ^\u001b[0m\n\u001b[0;31mSyntaxError\u001b[0m\u001b[0;31m:\u001b[0m invalid syntax\n"
          ]
        }
      ],
      "source": [
        "print(\"Hello World\") # \"Hello World\"를 출력하는 코드입니다.\n",
        "Hello World\n",
        "\"Helllo World\"\n",
        "'Helllo World'\n",
        "4+4\n",
        "8\n",
        "Hello World\n"
      ]
    },
    {
      "cell_type": "markdown",
      "source": [
        "위 코드는 \"Hello World\"를 출력하는 코드입니다. print 함수를 사용하여 \"Hello World\"라는 문자열을 화면에 출력합니다. 주석은 # 기호로 시작하며, 코드의 설명이나 추가 정보를 제공하는 역할을 합니다. 위 코드에서 주석은 코드 뒷부분에 위치하며, \"Hello World\"를 출력하는 코드입니다.라는 설명을 담고 있습니다. 주석은 코드 실행과는 관련이 없으며, 코드를 이해하는 데 도움을 주는 역할을 합니다."
      ],
      "metadata": {
        "id": "p4zf3ByZ2Lvd"
      }
    }
  ]
}