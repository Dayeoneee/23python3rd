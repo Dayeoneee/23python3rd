{
  "nbformat": 4,
  "nbformat_minor": 0,
  "metadata": {
    "colab": {
      "provenance": [],
      "authorship_tag": "ABX9TyMn7VxK0wKv6oVrOxQfR4U6",
      "include_colab_link": true
    },
    "kernelspec": {
      "name": "python3",
      "display_name": "Python 3"
    },
    "language_info": {
      "name": "python"
    }
  },
  "cells": [
    {
      "cell_type": "markdown",
      "metadata": {
        "id": "view-in-github",
        "colab_type": "text"
      },
      "source": [
        "<a href=\"https://colab.research.google.com/github/Dayeoneee/23python3rd/blob/main/FirstCode.ipynb\" target=\"_parent\"><img src=\"https://colab.research.google.com/assets/colab-badge.svg\" alt=\"Open In Colab\"/></a>"
      ]
    },
    {
      "cell_type": "markdown",
      "source": [
        "1. 나의 생애 첫번째 코드"
      ],
      "metadata": {
        "id": "FAqtUd5lH6jl"
      }
    },
    {
      "cell_type": "code",
      "execution_count": null,
      "metadata": {
        "colab": {
          "base_uri": "https://localhost:8080/"
        },
        "id": "iBg4syxFFm4l",
        "outputId": "5822c72d-83e4-4d95-cc16-ede7e25f5f28"
      },
      "outputs": [
        {
          "output_type": "stream",
          "name": "stdout",
          "text": [
            "helllo world!\n"
          ]
        }
      ],
      "source": [
        "print(\"helllo world!\") #\"hello world!\"라는 문자열을 출력하는 코드입니다."
      ]
    },
    {
      "cell_type": "markdown",
      "source": [
        "위 코드는 \"helllo world!\"라는 문자열을 출력하는 코드입니다. print 함수를 사용하여 문자열을 화면에 출력합니다. 주석은 # 기호로 시작하며, 코드의 설명이나 추가 정보를 제공하는 역할을 합니다. 위 코드에서 주석은 코드 뒷부분에 위치하며, \"helllo world!\"라는 문자열을 출력하는 코드입니다.라는 설명을 담고 있습니다. 주석은 코드 실행과는 관련이 없으며, 코드를 이해하는 데 도움을 주는 역할을 합니다."
      ],
      "metadata": {
        "id": "4W1qKN-7uZjF"
      }
    },
    {
      "cell_type": "markdown",
      "source": [
        "2. 두번째 코딩"
      ],
      "metadata": {
        "id": "MMwzwVntKapk"
      }
    },
    {
      "cell_type": "code",
      "source": [
        "print(5+5, 6-2, 4*5, 6/2) # 5+5, 6-2, 4*5, 6/2를 계산하여 결과를 출력하는 코드입니다.\n"
      ],
      "metadata": {
        "colab": {
          "base_uri": "https://localhost:8080/"
        },
        "id": "hotW19kfKfTc",
        "outputId": "c410d80f-6e94-4aed-a341-b8f6ddc97a11"
      },
      "execution_count": null,
      "outputs": [
        {
          "output_type": "stream",
          "name": "stdout",
          "text": [
            "10 4 20 3.0\n"
          ]
        }
      ]
    },
    {
      "cell_type": "markdown",
      "source": [
        "위 코드는 5+5, 6-2, 4*5, 6/2를 계산하여 결과를 출력하는 코드입니다. print 함수를 사용하여 계산 결과를 화면에 출력합니다. 주석은 # 기호로 시작하며, 코드의 설명이나 추가 정보를 제공하는 역할을 합니다. 위 코드에서 주석은 코드 뒷부분에 위치하며, 5+5, 6-2, 4*5, 6/2를 계산하여 결과를 출력하는 코드입니다.라는 설명을 담고 있습니다. 주석은 코드 실행과는 관련이 없으며, 코드를 이해하는 데 도움을 주는 역할을 합니다."
      ],
      "metadata": {
        "id": "jiLVMhkqu1tI"
      }
    }
  ]
}